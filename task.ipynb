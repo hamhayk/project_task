{
 "cells": [
  {
   "cell_type": "code",
   "execution_count": null,
   "id": "e6abb8bb",
   "metadata": {},
   "outputs": [
    {
     "name": "stdout",
     "output_type": "stream",
     "text": [
      "b'<?xml version=\"1.0\" encoding=\"utf-8\"?><soap:Envelope xmlns:soap=\"http://schemas.xmlsoap.org/soap/envelope/\" xmlns:xsi=\"http://www.w3.org/2001/XMLSchema-instance\" xmlns:xsd=\"http://www.w3.org/2001/XMLSchema\"><soap:Body><ExchangeRatesByDateByISOResponse xmlns=\"http://www.cba.am/\"><ExchangeRatesByDateByISOResult><CurrentDate>2020-10-20T00:00:00</CurrentDate><NextAvailableDate>2020-10-21T00:00:00</NextAvailableDate><PreviousAvailableDate>2020-10-19T00:00:00</PreviousAvailableDate><Rates><ExchangeRate><ISO>USD</ISO><Amount>1</Amount><Rate>493.33</Rate><Difference>0.93</Difference></ExchangeRate></Rates></ExchangeRatesByDateByISOResult></ExchangeRatesByDateByISOResponse></soap:Body></soap:Envelope>'\n",
      "USD Exchange Rate on 2020-10-20:\n",
      "  Rate    : 493.33\n",
      "  Amount  : 1\n",
      "  Change  : 0.93\n"
     ]
    }
   ],
   "source": [
    "import requests\n",
    "import xml.etree.ElementTree as ET\n",
    "\n",
    "def get_usd_rate_by_date(date_str):\n",
    "    url = \"https://api.cba.am/exchangerates.asmx\"\n",
    "    headers = {\n",
    "        \"Content-Type\": \"text/xml; charset=utf-8\",\n",
    "        \"SOAPAction\": \"http://www.cba.am/ExchangeRatesByDateByISO\"\n",
    "    }\n",
    "\n",
    "    # Construct the SOAP XML body\n",
    "    body = f\"\"\"<?xml version=\"1.0\" encoding=\"utf-8\"?>\n",
    "    <soap:Envelope xmlns:xsi=\"http://www.w3.org/2001/XMLSchema-instance\"\n",
    "                   xmlns:xsd=\"http://www.w3.org/2001/XMLSchema\"\n",
    "                   xmlns:soap=\"http://schemas.xmlsoap.org/soap/envelope/\">\n",
    "      <soap:Body>\n",
    "        <ExchangeRatesByDateByISO xmlns=\"http://www.cba.am/\">\n",
    "          <date>{date_str}T00:00:00</date>\n",
    "          <ISO>USD</ISO>\n",
    "        </ExchangeRatesByDateByISO>\n",
    "      </soap:Body>\n",
    "    </soap:Envelope>\"\"\"\n",
    "\n",
    "    # Send the SOAP request\n",
    "    response = requests.post(url, headers=headers, data=body)\n",
    "\n",
    "    if response.status_code != 200:\n",
    "        print(f\"HTTP error: {response.status_code}\")\n",
    "        print(response.text)\n",
    "        return\n",
    "\n",
    "    # Parse the XML response\n",
    "    namespaces = {\n",
    "        'soap': 'http://schemas.xmlsoap.org/soap/envelope/',\n",
    "        'cba': 'http://www.cba.am/'\n",
    "    }\n",
    "\n",
    "    #print(namespaces)\n",
    "\n",
    "    root = ET.fromstring(response.content)\n",
    "\n",
    "    print(response.content)\n",
    "\n",
    "    # Find the exchange rate info\n",
    "    rate_elem = root.find('.//cba:ExchangeRate', namespaces)\n",
    "    if rate_elem is None:\n",
    "        print(\"USD exchange rate not found.\")\n",
    "        return\n",
    "    \n",
    "    #print(root)\n",
    "\n",
    "    iso = rate_elem.find('cba:ISO', namespaces).text\n",
    "    amount = rate_elem.find('cba:Amount', namespaces).text\n",
    "    rate = rate_elem.find('cba:Rate', namespaces).text\n",
    "\n",
    "    print(f\"USD Exchange Rate on {date_str}:\")\n",
    "    print(f\"  Rate    : {rate}\")\n",
    "    print(f\"  Amount  : {amount}\")\n",
    "\n",
    "\n",
    "date_str = input(\"YYYY-MM-DD\")\n",
    "\n",
    "get_usd_rate_by_date(date_str)"
   ]
  }
 ],
 "metadata": {
  "kernelspec": {
   "display_name": "Python 3",
   "language": "python",
   "name": "python3"
  },
  "language_info": {
   "codemirror_mode": {
    "name": "ipython",
    "version": 3
   },
   "file_extension": ".py",
   "mimetype": "text/x-python",
   "name": "python",
   "nbconvert_exporter": "python",
   "pygments_lexer": "ipython3",
   "version": "3.13.3"
  }
 },
 "nbformat": 4,
 "nbformat_minor": 5
}
