{
 "cells": [
  {
   "cell_type": "code",
   "execution_count": null,
   "id": "17fff99d",
   "metadata": {},
   "outputs": [
    {
     "name": "stdout",
     "output_type": "stream",
     "text": [
      "[]\n"
     ]
    }
   ],
   "source": [
    "import requests\n",
    "from bs4 import BeautifulSoup\n",
    "\n",
    "web_url = \"https://auto.am/\"\n",
    "\n",
    "input_text = 'bmw'\n",
    "\n",
    "payload = {\n",
    "    'q': input_text\n",
    "}\n",
    "\n",
    "response = requests.get(web_url, params = payload)\n",
    "\n",
    "soup = BeautifulSoup(response.text, 'html.parser')\n",
    "\n",
    "titles = soup.find_all('h2', class_='result-title')\n",
    "# for title in titles:\n",
    "#     print(title.text)\n",
    "print(titles)"
   ]
  },
  {
   "cell_type": "code",
   "execution_count": null,
   "id": "6013cff8",
   "metadata": {},
   "outputs": [
    {
     "ename": "NoSuchElementException",
     "evalue": "Message: no such element: Unable to locate element: {\"method\":\"css selector\",\"selector\":\"div.vs__selected-options\"}\n  (Session info: chrome=137.0.7151.120); For documentation on this error, please visit: https://www.selenium.dev/documentation/webdriver/troubleshooting/errors#no-such-element-exception\nStacktrace:\n\tGetHandleVerifier [0x0x7ff73806cda5+78885]\n\tGetHandleVerifier [0x0x7ff73806ce00+78976]\n\t(No symbol) [0x0x7ff737e29bca]\n\t(No symbol) [0x0x7ff737e80766]\n\t(No symbol) [0x0x7ff737e80a1c]\n\t(No symbol) [0x0x7ff737ed4467]\n\t(No symbol) [0x0x7ff737ea8bcf]\n\t(No symbol) [0x0x7ff737ed122f]\n\t(No symbol) [0x0x7ff737ea8963]\n\t(No symbol) [0x0x7ff737e716b1]\n\t(No symbol) [0x0x7ff737e72443]\n\tGetHandleVerifier [0x0x7ff738344eed+3061101]\n\tGetHandleVerifier [0x0x7ff73833f33d+3037629]\n\tGetHandleVerifier [0x0x7ff73835e592+3165202]\n\tGetHandleVerifier [0x0x7ff73808730e+186766]\n\tGetHandleVerifier [0x0x7ff73808eb3f+217535]\n\tGetHandleVerifier [0x0x7ff7380759b4+114740]\n\tGetHandleVerifier [0x0x7ff738075b69+115177]\n\tGetHandleVerifier [0x0x7ff73805c368+10728]\n\tBaseThreadInitThunk [0x0x7ffa026fe8d7+23]\n\tRtlUserThreadStart [0x0x7ffa03a3bf2c+44]\n",
     "output_type": "error",
     "traceback": [
      "\u001b[31m---------------------------------------------------------------------------\u001b[39m",
      "\u001b[31mNoSuchElementException\u001b[39m                    Traceback (most recent call last)",
      "\u001b[36mCell\u001b[39m\u001b[36m \u001b[39m\u001b[32mIn[42]\u001b[39m\u001b[32m, line 15\u001b[39m\n\u001b[32m     10\u001b[39m driver.get(\u001b[33m\"\u001b[39m\u001b[33mhttps://auto.am/\u001b[39m\u001b[33m\"\u001b[39m)\n\u001b[32m     13\u001b[39m time.sleep(\u001b[32m10\u001b[39m)\n\u001b[32m---> \u001b[39m\u001b[32m15\u001b[39m \u001b[43mdriver\u001b[49m\u001b[43m.\u001b[49m\u001b[43mfind_element\u001b[49m\u001b[43m(\u001b[49m\u001b[43mBy\u001b[49m\u001b[43m.\u001b[49m\u001b[43mCSS_SELECTOR\u001b[49m\u001b[43m,\u001b[49m\u001b[43m \u001b[49m\u001b[33;43m\"\u001b[39;49m\u001b[33;43mdiv.vs__selected-options\u001b[39;49m\u001b[33;43m\"\u001b[39;49m\u001b[43m)\u001b[49m.click()\n\u001b[32m     16\u001b[39m time.sleep(\u001b[32m5\u001b[39m)\n\u001b[32m     17\u001b[39m search_box = driver.find_element(By.CSS_SELECTOR, \u001b[33m\"\u001b[39m\u001b[33minput.vs__search\u001b[39m\u001b[33m\"\u001b[39m)\n",
      "\u001b[36mFile \u001b[39m\u001b[32mc:\\Program Files\\Python313\\Lib\\site-packages\\selenium\\webdriver\\remote\\webdriver.py:914\u001b[39m, in \u001b[36mWebDriver.find_element\u001b[39m\u001b[34m(self, by, value)\u001b[39m\n\u001b[32m    911\u001b[39m         \u001b[38;5;28;01mraise\u001b[39;00m NoSuchElementException(\u001b[33mf\u001b[39m\u001b[33m\"\u001b[39m\u001b[33mCannot locate relative element with: \u001b[39m\u001b[38;5;132;01m{\u001b[39;00mby.root\u001b[38;5;132;01m}\u001b[39;00m\u001b[33m\"\u001b[39m)\n\u001b[32m    912\u001b[39m     \u001b[38;5;28;01mreturn\u001b[39;00m elements[\u001b[32m0\u001b[39m]\n\u001b[32m--> \u001b[39m\u001b[32m914\u001b[39m \u001b[38;5;28;01mreturn\u001b[39;00m \u001b[38;5;28;43mself\u001b[39;49m\u001b[43m.\u001b[49m\u001b[43mexecute\u001b[49m\u001b[43m(\u001b[49m\u001b[43mCommand\u001b[49m\u001b[43m.\u001b[49m\u001b[43mFIND_ELEMENT\u001b[49m\u001b[43m,\u001b[49m\u001b[43m \u001b[49m\u001b[43m{\u001b[49m\u001b[33;43m\"\u001b[39;49m\u001b[33;43musing\u001b[39;49m\u001b[33;43m\"\u001b[39;49m\u001b[43m:\u001b[49m\u001b[43m \u001b[49m\u001b[43mby\u001b[49m\u001b[43m,\u001b[49m\u001b[43m \u001b[49m\u001b[33;43m\"\u001b[39;49m\u001b[33;43mvalue\u001b[39;49m\u001b[33;43m\"\u001b[39;49m\u001b[43m:\u001b[49m\u001b[43m \u001b[49m\u001b[43mvalue\u001b[49m\u001b[43m}\u001b[49m\u001b[43m)\u001b[49m[\u001b[33m\"\u001b[39m\u001b[33mvalue\u001b[39m\u001b[33m\"\u001b[39m]\n",
      "\u001b[36mFile \u001b[39m\u001b[32mc:\\Program Files\\Python313\\Lib\\site-packages\\selenium\\webdriver\\remote\\webdriver.py:447\u001b[39m, in \u001b[36mWebDriver.execute\u001b[39m\u001b[34m(self, driver_command, params)\u001b[39m\n\u001b[32m    445\u001b[39m response = \u001b[38;5;28mself\u001b[39m.command_executor.execute(driver_command, params)\n\u001b[32m    446\u001b[39m \u001b[38;5;28;01mif\u001b[39;00m response:\n\u001b[32m--> \u001b[39m\u001b[32m447\u001b[39m     \u001b[38;5;28;43mself\u001b[39;49m\u001b[43m.\u001b[49m\u001b[43merror_handler\u001b[49m\u001b[43m.\u001b[49m\u001b[43mcheck_response\u001b[49m\u001b[43m(\u001b[49m\u001b[43mresponse\u001b[49m\u001b[43m)\u001b[49m\n\u001b[32m    448\u001b[39m     response[\u001b[33m\"\u001b[39m\u001b[33mvalue\u001b[39m\u001b[33m\"\u001b[39m] = \u001b[38;5;28mself\u001b[39m._unwrap_value(response.get(\u001b[33m\"\u001b[39m\u001b[33mvalue\u001b[39m\u001b[33m\"\u001b[39m, \u001b[38;5;28;01mNone\u001b[39;00m))\n\u001b[32m    449\u001b[39m     \u001b[38;5;28;01mreturn\u001b[39;00m response\n",
      "\u001b[36mFile \u001b[39m\u001b[32mc:\\Program Files\\Python313\\Lib\\site-packages\\selenium\\webdriver\\remote\\errorhandler.py:232\u001b[39m, in \u001b[36mErrorHandler.check_response\u001b[39m\u001b[34m(self, response)\u001b[39m\n\u001b[32m    230\u001b[39m         alert_text = value[\u001b[33m\"\u001b[39m\u001b[33malert\u001b[39m\u001b[33m\"\u001b[39m].get(\u001b[33m\"\u001b[39m\u001b[33mtext\u001b[39m\u001b[33m\"\u001b[39m)\n\u001b[32m    231\u001b[39m     \u001b[38;5;28;01mraise\u001b[39;00m exception_class(message, screen, stacktrace, alert_text)  \u001b[38;5;66;03m# type: ignore[call-arg]  # mypy is not smart enough here\u001b[39;00m\n\u001b[32m--> \u001b[39m\u001b[32m232\u001b[39m \u001b[38;5;28;01mraise\u001b[39;00m exception_class(message, screen, stacktrace)\n",
      "\u001b[31mNoSuchElementException\u001b[39m: Message: no such element: Unable to locate element: {\"method\":\"css selector\",\"selector\":\"div.vs__selected-options\"}\n  (Session info: chrome=137.0.7151.120); For documentation on this error, please visit: https://www.selenium.dev/documentation/webdriver/troubleshooting/errors#no-such-element-exception\nStacktrace:\n\tGetHandleVerifier [0x0x7ff73806cda5+78885]\n\tGetHandleVerifier [0x0x7ff73806ce00+78976]\n\t(No symbol) [0x0x7ff737e29bca]\n\t(No symbol) [0x0x7ff737e80766]\n\t(No symbol) [0x0x7ff737e80a1c]\n\t(No symbol) [0x0x7ff737ed4467]\n\t(No symbol) [0x0x7ff737ea8bcf]\n\t(No symbol) [0x0x7ff737ed122f]\n\t(No symbol) [0x0x7ff737ea8963]\n\t(No symbol) [0x0x7ff737e716b1]\n\t(No symbol) [0x0x7ff737e72443]\n\tGetHandleVerifier [0x0x7ff738344eed+3061101]\n\tGetHandleVerifier [0x0x7ff73833f33d+3037629]\n\tGetHandleVerifier [0x0x7ff73835e592+3165202]\n\tGetHandleVerifier [0x0x7ff73808730e+186766]\n\tGetHandleVerifier [0x0x7ff73808eb3f+217535]\n\tGetHandleVerifier [0x0x7ff7380759b4+114740]\n\tGetHandleVerifier [0x0x7ff738075b69+115177]\n\tGetHandleVerifier [0x0x7ff73805c368+10728]\n\tBaseThreadInitThunk [0x0x7ffa026fe8d7+23]\n\tRtlUserThreadStart [0x0x7ffa03a3bf2c+44]\n"
     ]
    }
   ],
   "source": [
    "\n",
    "from selenium import webdriver\n",
    "from selenium.webdriver.common.by import By\n",
    "from selenium.webdriver.common.keys import Keys\n",
    "import time\n",
    "\n",
    "\n",
    "\n",
    "driver = webdriver.Chrome()\n",
    "\n",
    "driver.get(\"https://auto.am/\")\n",
    "\n",
    "\n",
    "time.sleep(10)\n",
    "\n",
    "driver.find_element(By.CSS_SELECTOR, \"div.vs__selected-options\").click()\n",
    "time.sleep(5)\n",
    "search_box = driver.find_element(By.CSS_SELECTOR, \"input.vs__search\")\n",
    "search_box.send_keys(\"opel\")\n",
    "time.sleep(3)\n",
    "\n",
    "search_box.send_keys(Keys.RETURN)\n",
    "\n",
    "time.sleep(5)\n",
    "\n",
    "results = driver.find_elements(By.CLASS_NAME, '.vehicles-list .title')\n",
    "print(results)\n",
    "for result in results:\n",
    "    print(result.text)\n",
    "driver.quit()"
   ]
  },
  {
   "cell_type": "code",
   "execution_count": 41,
   "id": "8f0ffc63",
   "metadata": {},
   "outputs": [
    {
     "ename": "TimeoutException",
     "evalue": "Message: \nStacktrace:\n\tGetHandleVerifier [0x0x7ff73806cda5+78885]\n\tGetHandleVerifier [0x0x7ff73806ce00+78976]\n\t(No symbol) [0x0x7ff737e29bca]\n\t(No symbol) [0x0x7ff737e80766]\n\t(No symbol) [0x0x7ff737e80a1c]\n\t(No symbol) [0x0x7ff737ed4467]\n\t(No symbol) [0x0x7ff737ea8bcf]\n\t(No symbol) [0x0x7ff737ed122f]\n\t(No symbol) [0x0x7ff737ea8963]\n\t(No symbol) [0x0x7ff737e716b1]\n\t(No symbol) [0x0x7ff737e72443]\n\tGetHandleVerifier [0x0x7ff738344eed+3061101]\n\tGetHandleVerifier [0x0x7ff73833f33d+3037629]\n\tGetHandleVerifier [0x0x7ff73835e592+3165202]\n\tGetHandleVerifier [0x0x7ff73808730e+186766]\n\tGetHandleVerifier [0x0x7ff73808eb3f+217535]\n\tGetHandleVerifier [0x0x7ff7380759b4+114740]\n\tGetHandleVerifier [0x0x7ff738075b69+115177]\n\tGetHandleVerifier [0x0x7ff73805c368+10728]\n\tBaseThreadInitThunk [0x0x7ffa026fe8d7+23]\n\tRtlUserThreadStart [0x0x7ffa03a3bf2c+44]\n",
     "output_type": "error",
     "traceback": [
      "\u001b[31m---------------------------------------------------------------------------\u001b[39m",
      "\u001b[31mTimeoutException\u001b[39m                          Traceback (most recent call last)",
      "\u001b[36mCell\u001b[39m\u001b[36m \u001b[39m\u001b[32mIn[41]\u001b[39m\u001b[32m, line 13\u001b[39m\n\u001b[32m     11\u001b[39m \u001b[38;5;66;03m# Step 2: Wait until search box is clickable\u001b[39;00m\n\u001b[32m     12\u001b[39m wait = WebDriverWait(driver, \u001b[32m20\u001b[39m)\n\u001b[32m---> \u001b[39m\u001b[32m13\u001b[39m search_container = \u001b[43mwait\u001b[49m\u001b[43m.\u001b[49m\u001b[43muntil\u001b[49m\u001b[43m(\u001b[49m\u001b[43mEC\u001b[49m\u001b[43m.\u001b[49m\u001b[43melement_to_be_clickable\u001b[49m\u001b[43m(\u001b[49m\u001b[43m(\u001b[49m\u001b[43mBy\u001b[49m\u001b[43m.\u001b[49m\u001b[43mCSS_SELECTOR\u001b[49m\u001b[43m,\u001b[49m\u001b[43m \u001b[49m\u001b[33;43m\"\u001b[39;49m\u001b[33;43m.vs__search\u001b[39;49m\u001b[33;43m\"\u001b[39;49m\u001b[43m)\u001b[49m\u001b[43m)\u001b[49m\u001b[43m)\u001b[49m\n\u001b[32m     14\u001b[39m search_container.click()\n\u001b[32m     16\u001b[39m \u001b[38;5;66;03m# Step 3: Type into active search input\u001b[39;00m\n",
      "\u001b[36mFile \u001b[39m\u001b[32mc:\\Program Files\\Python313\\Lib\\site-packages\\selenium\\webdriver\\support\\wait.py:138\u001b[39m, in \u001b[36mWebDriverWait.until\u001b[39m\u001b[34m(self, method, message)\u001b[39m\n\u001b[32m    136\u001b[39m         \u001b[38;5;28;01mbreak\u001b[39;00m\n\u001b[32m    137\u001b[39m     time.sleep(\u001b[38;5;28mself\u001b[39m._poll)\n\u001b[32m--> \u001b[39m\u001b[32m138\u001b[39m \u001b[38;5;28;01mraise\u001b[39;00m TimeoutException(message, screen, stacktrace)\n",
      "\u001b[31mTimeoutException\u001b[39m: Message: \nStacktrace:\n\tGetHandleVerifier [0x0x7ff73806cda5+78885]\n\tGetHandleVerifier [0x0x7ff73806ce00+78976]\n\t(No symbol) [0x0x7ff737e29bca]\n\t(No symbol) [0x0x7ff737e80766]\n\t(No symbol) [0x0x7ff737e80a1c]\n\t(No symbol) [0x0x7ff737ed4467]\n\t(No symbol) [0x0x7ff737ea8bcf]\n\t(No symbol) [0x0x7ff737ed122f]\n\t(No symbol) [0x0x7ff737ea8963]\n\t(No symbol) [0x0x7ff737e716b1]\n\t(No symbol) [0x0x7ff737e72443]\n\tGetHandleVerifier [0x0x7ff738344eed+3061101]\n\tGetHandleVerifier [0x0x7ff73833f33d+3037629]\n\tGetHandleVerifier [0x0x7ff73835e592+3165202]\n\tGetHandleVerifier [0x0x7ff73808730e+186766]\n\tGetHandleVerifier [0x0x7ff73808eb3f+217535]\n\tGetHandleVerifier [0x0x7ff7380759b4+114740]\n\tGetHandleVerifier [0x0x7ff738075b69+115177]\n\tGetHandleVerifier [0x0x7ff73805c368+10728]\n\tBaseThreadInitThunk [0x0x7ffa026fe8d7+23]\n\tRtlUserThreadStart [0x0x7ffa03a3bf2c+44]\n"
     ]
    }
   ],
   "source": [
    "from selenium import webdriver\n",
    "from selenium.webdriver.common.by import By\n",
    "from selenium.webdriver.common.keys import Keys\n",
    "from selenium.webdriver.support.ui import WebDriverWait\n",
    "from selenium.webdriver.support import expected_conditions as EC\n",
    "\n",
    "# Step 1: Launch browser\n",
    "driver = webdriver.Chrome()\n",
    "driver.get(\"https://auto.am/\")\n",
    "\n",
    "# Step 2: Wait until search box is clickable\n",
    "wait = WebDriverWait(driver, 20)\n",
    "search_container = wait.until(EC.element_to_be_clickable((By.CSS_SELECTOR, \".vs__search\")))\n",
    "search_container.click()\n",
    "\n",
    "# Step 3: Type into active search input\n",
    "search_input = wait.until(EC.presence_of_element_located((By.CSS_SELECTOR, \"input.vs__search\")))\n",
    "search_input.send_keys(\"Opel\")\n",
    "search_input.send_keys(Keys.RETURN)\n",
    "\n",
    "# Step 4: Wait for result titles to load\n",
    "wait.until(EC.presence_of_element_located((By.CSS_SELECTOR, \".vehicles-list .title\")))\n",
    "\n",
    "# Step 5: Scrape and print titles\n",
    "results = driver.find_elements(By.CSS_SELECTOR, \".vehicles-list .title\")\n",
    "print(\"\\n🔍 Opel Listings:\")\n",
    "for result in results:\n",
    "    print(\"-\", result.text)"
   ]
  }
 ],
 "metadata": {
  "kernelspec": {
   "display_name": "Python 3",
   "language": "python",
   "name": "python3"
  },
  "language_info": {
   "codemirror_mode": {
    "name": "ipython",
    "version": 3
   },
   "file_extension": ".py",
   "mimetype": "text/x-python",
   "name": "python",
   "nbconvert_exporter": "python",
   "pygments_lexer": "ipython3",
   "version": "3.13.3"
  }
 },
 "nbformat": 4,
 "nbformat_minor": 5
}
