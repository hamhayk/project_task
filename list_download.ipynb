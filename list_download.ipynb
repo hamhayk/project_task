{
 "cells": [
  {
   "cell_type": "code",
   "execution_count": null,
   "id": "6013cff8",
   "metadata": {},
   "outputs": [
    {
     "name": "stdout",
     "output_type": "stream",
     "text": [
      "[('Լվացքի մեքենա AEG L6SE26SRE', 319000), ('Լվացքի մեքենա AEG L6SE47SRE', 349000), ('Լվացքի մեքենա AEG L8WBC61SR', 699000), ('Լվացքի մեքենա AEG LFR73164OE', 619000), ('Լվացքի մեքենա AEG LFR73844VE', 589000), ('Լվացքի մեքենա AEG LSR6E26WE', 319000), ('Լվացքի մեքենա AEG LSR6E47DE', 349000), ('Լվացքի մեքենա AEG LSR6E47DXE', 369000), ('Լվացքի մեքենա AEG LWR73044BE', 759000), ('Լվացքի մեքենա AEG LWR73164Q', 719000), ('Լվացքի մեքենա BERG BWM-S10147DIDDOB', 419000), ('Լվացքի մեքենա BERG BWM-S1014DIDDB', 379000), ('Լվացքի մեքենա BERG BWM-S610DIGR', 159000), ('Լվացքի մեքենա BERG BWM-S610IW', 139000), ('Լվացքի մեքենա BERG BWM-S712DIGR', 89000), ('Լվացքի մեքենա BERG BWM-S814DIOB', 189000), ('Լվացքի մեքենա BOSCH WAJ20180ME', 159000), ('Լվացքի մեքենա BOSCH WAN24200ME', 249000), ('Լվացքի մեքենա BOSCH WAN2420XME', 199000), ('Լվացքի մեքենա BOSCH WGA24400ME', 299000), ('Լվացքի մեքենա BOSCH WGB2560XME', 339000), ('Լվացքի մեքենա BOSCH WGB256A0ME', 359000), ('Ներկառուցվող լվացքի մեքենա ELECTROLUX EWN7F447WI', 439000), ('Լվացքի մեքենա ELECTROLUX EW6F2281E', 721000), ('Լվացքի մեքենա ELECTROLUX EW6F3414UE', 710700), ('Լվացքի մեքենա ELECTROLUX EW6S3R27SX', 429000), ('Լվացքի մեքենա ELECTROLUX EW6S4R06BX', 343200), ('Լվացքի մեքենա ELECTROLUX EW6S4R06W', 269000), ('Լվացքի մեքենա ELECTROLUX EW6S4R27BX', 209000), ('Լվացքի մեքենա ELECTROLUX EW6S4R27W', 339000), ('Լվացքի մեքենա ELECTROLUX EW6T4RF061', 271200)]\n"
     ]
    }
   ],
   "source": [
    "from selenium import webdriver\n",
    "from selenium.webdriver.common.by import By\n",
    "from selenium.webdriver.common.keys import Keys\n",
    "from selenium.webdriver.support.ui import WebDriverWait\n",
    "from selenium.webdriver.support import expected_conditions as EC\n",
    "import time\n",
    "\n",
    "def sriping_vega(search_text: str, How_much):\n",
    "    driver = webdriver.Chrome()\n",
    "    driver.get(\"https://vega.am/am\")\n",
    "    time.sleep(5)\n",
    "\n",
    "    # Find the search box by name=\"q\"\n",
    "    search_box = driver.find_element(By.NAME, \"search2\")\n",
    "    search_box.clear()\n",
    "    search_box.send_keys(search_text)\n",
    "    time.sleep(5)\n",
    "\n",
    "    search_box.send_keys(Keys.RETURN)\n",
    "\n",
    "\n",
    "\n",
    "    wait = WebDriverWait(driver, 60)\n",
    "    results_container = wait.until(EC.presence_of_all_elements_located((By.CSS_SELECTOR, \"div.product-grid.active\")))\n",
    "\n",
    "    for container in results_container:\n",
    "        titles = container.find_elements(By.TAG_NAME, \"a\")\n",
    "        title_list = [] \n",
    "        for title in titles:  \n",
    "                text = title.text.strip()\n",
    "                if text:\n",
    "                    title_list.append(text) \n",
    "\n",
    "    for price_cont in  results_container:\n",
    "        prices = price_cont.find_elements(By.CSS_SELECTOR, \"div.right span\")\n",
    "        price_list = []\n",
    "        for price in prices:\n",
    "            price_new = price.text.strip()\n",
    "            if price_new:\n",
    "                price_list.append(price_new)\n",
    "\n",
    "    new_price_list = []\n",
    "    new_title_list = title_list[1:]\n",
    "    for i in price_list:\n",
    "        new_price_list.append(int(i[:-1].replace(\" \",\"\")))\n",
    "    new_total_list = list(zip(new_title_list, new_price_list))\n",
    "    print(new_total_list)\n",
    "    time.sleep(5)\n",
    "    driver.quit()\n",
    "    return new_price_list[0:How_much], new_title_list[0:How_much]\n"
   ]
  }
 ],
 "metadata": {
  "kernelspec": {
   "display_name": "Python 3",
   "language": "python",
   "name": "python3"
  },
  "language_info": {
   "codemirror_mode": {
    "name": "ipython",
    "version": 3
   },
   "file_extension": ".py",
   "mimetype": "text/x-python",
   "name": "python",
   "nbconvert_exporter": "python",
   "pygments_lexer": "ipython3",
   "version": "3.13.3"
  }
 },
 "nbformat": 4,
 "nbformat_minor": 5
}
